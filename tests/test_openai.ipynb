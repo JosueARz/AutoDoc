{
 "cells": [
  {
   "cell_type": "code",
   "execution_count": 1,
   "metadata": {},
   "outputs": [],
   "source": [
    "import openai\n",
    "import os\n",
    "from dotenv import load_dotenv"
   ]
  },
  {
   "cell_type": "code",
   "execution_count": 2,
   "metadata": {},
   "outputs": [
    {
     "data": {
      "text/plain": [
       "True"
      ]
     },
     "execution_count": 2,
     "metadata": {},
     "output_type": "execute_result"
    }
   ],
   "source": [
    "# Cargar variables de entorno desde .env (si existe)\n",
    "load_dotenv()"
   ]
  },
  {
   "cell_type": "code",
   "execution_count": 3,
   "metadata": {},
   "outputs": [],
   "source": [
    "# Obtener la API Key desde las variables de entorno\n",
    "api_key = os.getenv(\"OPENAI_API_KEY\")"
   ]
  },
  {
   "cell_type": "code",
   "execution_count": 5,
   "metadata": {},
   "outputs": [],
   "source": [
    "if not api_key:\n",
    "    print(\"❌ ERROR: La API Key de OpenAI no está configurada.\")\n",
    "    print(\"Asegúrate de establecerla en las variables de entorno o en un archivo .env\")\n",
    "    exit(1)\n",
    "\n",
    "# Configurar la API Key en OpenAI\n",
    "openai.api_key = api_key\n"
   ]
  },
  {
   "cell_type": "code",
   "execution_count": 6,
   "metadata": {},
   "outputs": [
    {
     "name": "stdout",
     "output_type": "stream",
     "text": [
      "\n",
      "✅ API de OpenAI funciona correctamente.\n",
      "📩 Respuesta de OpenAI: Como asistente de IA de OpenAI, no tengo la capacidad para verificar el estado actual de la API de OpenAI. Te recomendaría visitar el sitio web oficial de OpenAI o ponerte en contacto con su soporte técnico\n"
     ]
    }
   ],
   "source": [
    "\n",
    "\n",
    "\n",
    "try:\n",
    "    response = openai.ChatCompletion.create(\n",
    "        model=\"gpt-4\",\n",
    "        messages=[{\"role\": \"user\", \"content\": \"Hola, ¿puedes confirmar que la API de OpenAI está funcionando?\"}],\n",
    "        max_tokens=50\n",
    "    )\n",
    "\n",
    "    print(\"\\n✅ API de OpenAI funciona correctamente.\")\n",
    "    print(\"📩 Respuesta de OpenAI:\", response[\"choices\"][0][\"message\"][\"content\"])\n",
    "\n",
    "except openai.error.AuthenticationError:\n",
    "    print(\"❌ ERROR: La API Key de OpenAI es inválida o no está configurada correctamente.\")\n",
    "except openai.error.OpenAIError as e:\n",
    "    print(f\"❌ ERROR de OpenAI: {str(e)}\")\n"
   ]
  },
  {
   "cell_type": "code",
   "execution_count": null,
   "metadata": {},
   "outputs": [],
   "source": []
  }
 ],
 "metadata": {
  "kernelspec": {
   "display_name": "venv",
   "language": "python",
   "name": "python3"
  },
  "language_info": {
   "codemirror_mode": {
    "name": "ipython",
    "version": 3
   },
   "file_extension": ".py",
   "mimetype": "text/x-python",
   "name": "python",
   "nbconvert_exporter": "python",
   "pygments_lexer": "ipython3",
   "version": "3.10.8"
  }
 },
 "nbformat": 4,
 "nbformat_minor": 2
}
